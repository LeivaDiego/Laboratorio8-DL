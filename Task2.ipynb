{
 "cells": [
  {
   "cell_type": "markdown",
   "metadata": {},
   "source": [
    "# Deep Learning y Sistemas Inteligentes - Laboratorio 8\n",
    "## Predicción de Meses de Ventas\n",
    "- - -\n",
    "### Integrantes:\n",
    "- Diego Alberto Leiva 21752\n",
    "- José Pablo Orellana 21970\n",
    "- María Marta Ramírez 21342\n",
    "- - -"
   ]
  },
  {
   "cell_type": "markdown",
   "metadata": {},
   "source": [
    "### Task 2 - Teoría\n",
    "Responda claramente y con una extensión adecuada las siguientes preguntas:"
   ]
  },
  {
   "cell_type": "markdown",
   "metadata": {},
   "source": [
    "**¿Cuál es el problema del gradiente de fuga en las redes LSTM y cómo afecta la efectividad de LSTM para el pronóstico de series temporales?**\n",
    "- El problema del gradiente de fuga ocurre cuando los gradientes, durante el entrenamiento de redes neuronales recurrentes (RNN) como las LSTM, se vuelven extremadamente pequeños. Esto sucede debido a la multiplicación repetida de derivadas (menores que uno) en la retropropagación a lo largo del tiempo, lo que lleva a una disminución exponencial del gradiente.\n",
    "\n",
    "**¿Cómo se aborda la estacionalidad en los datos de series temporales cuando se utilizan LSTM para realizar pronósticos y qué papel juega la diferenciación en el proceso?**\n",
    "- La estacionalidad es un patrón recurrente que aparece a intervalos regulares en los datos de series temporales, como los ciclos anuales, mensuales o diarios. Para abordar esto se podrían añadir características adicionales como el mes, día de la semana o cualquier otra variable que represente la estacionalidad de los datos. Esto ayuda al modelo a tener en cuenta estos ciclos sin depender únicamente de la secuencia. O bien se podría aumentar el tamaño de la ventana o la longitud de la secuencia de entrada, la LSTM puede aprender patrones estacionales, ya que puede \"recordar\" información sobre el comportamiento cíclico en los datos.\n",
    "\n",
    "**¿Cuál es el concepto de \"tamaño de ventana\" en el pronóstico de series temporales con LSTM y cómo afecta la elección del tamaño de ventana a la capacidad del modelo para capturar patrones a corto y largo plazo?**\n",
    "- El tamaño de ventana o window size, en el pronóstico de series temporales con LSTM se refiere a la cantidad de datos pasados que se toman como entrada para predecir un valor futuro. Elegir el tamaño de ventana adecuado es clave para el rendimiento del modelo. Si el tamaño es demasiado pequeño, el modelo no podrá aprender patrones a largo plazo, si es demasiado grande, el entrenamiento puede volverse lento y propenso a errores."
   ]
  }
 ],
 "metadata": {
  "language_info": {
   "name": "python"
  }
 },
 "nbformat": 4,
 "nbformat_minor": 2
}
